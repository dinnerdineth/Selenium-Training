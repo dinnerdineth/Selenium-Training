{
 "cells": [
  {
   "cell_type": "markdown",
   "id": "7298bcb2",
   "metadata": {},
   "source": [
    "This is a notebook version to see if automation works in Jupyter"
   ]
  },
  {
   "cell_type": "code",
   "execution_count": 3,
   "id": "0213fb11",
   "metadata": {},
   "outputs": [],
   "source": [
    "from selenium.webdriver.common.action_chains import ActionChains\n",
    "import time\n",
    "import requests\n",
    "import json"
   ]
  },
  {
   "cell_type": "code",
   "execution_count": 5,
   "id": "b131ea83",
   "metadata": {},
   "outputs": [],
   "source": [
    "  \n",
    "def auto_web_browsing_one():\n",
    "  driver = webdriver.Chrome()\n",
    "  url = 'https://demo.seleniumeasy.com/basic-first-form-demo.html'\n",
    "  driver.get(url)\n",
    "  \n",
    "  #kill popup\n",
    "  closeButton = driver.find_elements(\"xpath\",'//*[@id=\"at-cv-lightbox-close\"]')\n",
    "  if closeButton:\n",
    "      closeButton.click()\n",
    "  \n",
    "  #First input field\n",
    "  messageField = driver.find_element(\"xpath\",'//*[@id=\"user-message\"]')\n",
    "  messageField.send_keys(\"Hello world\")\n",
    "  show_message_button = driver.find_element(\"xpath\",'//*[@id=\"get-input\"]/button')\n",
    "  show_message_button.click()\n",
    "  \n",
    "  #Second input field\n",
    "  aField = driver.find_element(\"xpath\",'//*[@id=\"sum1\"]')\n",
    "  aField.send_keys(234)\n",
    "  bField = driver.find_element(\"xpath\",'//*[@id=\"sum2\"]')\n",
    "  bField.send_keys(456)\n",
    "  addButton = driver.find_element(\"xpath\",'//*[@id=\"gettotal\"]/button')\n",
    "  addButton.click()\n",
    "  \n",
    "  time.sleep(15)"
   ]
  },
  {
   "cell_type": "code",
   "execution_count": null,
   "id": "1d8be34a",
   "metadata": {},
   "outputs": [],
   "source": []
  }
 ],
 "metadata": {
  "kernelspec": {
   "display_name": "Python 3 (ipykernel)",
   "language": "python",
   "name": "python3"
  },
  "language_info": {
   "codemirror_mode": {
    "name": "ipython",
    "version": 3
   },
   "file_extension": ".py",
   "mimetype": "text/x-python",
   "name": "python",
   "nbconvert_exporter": "python",
   "pygments_lexer": "ipython3",
   "version": "3.9.12"
  }
 },
 "nbformat": 4,
 "nbformat_minor": 5
}
